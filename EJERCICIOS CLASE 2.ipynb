{
  "cells": [
    {
      "cell_type": "markdown",
      "metadata": {
        "id": "view-in-github",
        "colab_type": "text"
      },
      "source": [
        "<a href=\"https://colab.research.google.com/github/eduardobad/svg-edit-react/blob/master/EJERCICIOS%20CLASE%202.ipynb\" target=\"_parent\"><img src=\"https://colab.research.google.com/assets/colab-badge.svg\" alt=\"Open In Colab\"/></a>"
      ]
    },
    {
      "cell_type": "markdown",
      "source": [
        "# ARCHIVOS DE TEXTO"
      ],
      "metadata": {
        "id": "Qr6LfsEXxjE2"
      }
    },
    {
      "cell_type": "markdown",
      "source": [
        "Solicita a CHATGPT que describa cómo leer y escribir una archivo de texto en Python y estudia los resultados\n"
      ],
      "metadata": {
        "id": "kFdDBEyhxrQ9"
      }
    }
  ],
  "metadata": {
    "colab": {
      "name": "Te damos la bienvenida a Colaboratory",
      "toc_visible": true,
      "provenance": [],
      "include_colab_link": true
    },
    "kernelspec": {
      "display_name": "Python 3",
      "name": "python3"
    }
  },
  "nbformat": 4,
  "nbformat_minor": 0
}